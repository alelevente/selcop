{
 "cells": [
  {
   "cell_type": "markdown",
   "id": "8b1a618a-29ad-46c3-a61d-8a1c202338d1",
   "metadata": {},
   "source": [
    "# **Checking data exchange**"
   ]
  },
  {
   "cell_type": "code",
   "execution_count": 1,
   "id": "194242f1-b606-4100-ba9e-3804a637afa6",
   "metadata": {},
   "outputs": [],
   "source": [
    "import numpy as np\n",
    "import pandas as pd\n",
    "\n",
    "import json\n",
    "import pickle\n",
    "\n",
    "from multiprocessing.pool import Pool\n",
    "import io\n",
    "\n",
    "from tqdm.notebook import trange\n",
    "\n",
    "import matplotlib.pyplot as plt\n",
    "import seaborn as sns"
   ]
  },
  {
   "cell_type": "code",
   "execution_count": 2,
   "id": "9e506810-ec47-45c0-a52d-09f9ee04d2ff",
   "metadata": {},
   "outputs": [],
   "source": [
    "SEEDS = [42, 1234, 1867, 613, 1001]\n",
    "SHARING_METHODS = [\"all_data\", \"alters\", \"zopt\"]\n",
    "SHARING_METHODS_NAMES = [\"all data\", \"alters\", \"zopt\"]"
   ]
  },
  {
   "cell_type": "code",
   "execution_count": 3,
   "id": "e932a337-115e-4498-a32a-1bfe67affa0e",
   "metadata": {},
   "outputs": [],
   "source": [
    "SIMULATION_RESULTS_ROOT = \"../../02_data/01_simulation_results/\"\n",
    "MEETING_PATH = \"../../02_data/03_meeting_data/\"\n",
    "VEH_LIST_PATH = \"../../02_data/veh_list.json\"\n",
    "PARKING_DEF_PATH = \"../../01_simulation/02_scenario/parking_areas.add.xml\"\n",
    "\n",
    "UTILITY_RESULT_PATH = \"../../02_data/06_eval_utilities/\""
   ]
  },
  {
   "cell_type": "markdown",
   "id": "d017ee67-5a6f-418d-b99e-b1fc4584c213",
   "metadata": {
    "tags": []
   },
   "source": [
    "## Size of Shared Dataset\n",
    "\n",
    "**Payload size:**\n",
    "- timestamp: 128 bit\n",
    "- position: uint32 -> 32 bit\n",
    "- occupancy: float32 -> 32 bit\n",
    "- *total:* 192 bit"
   ]
  },
  {
   "cell_type": "code",
   "execution_count": 4,
   "id": "f6f44cc1-2bd0-43d3-88c3-c6d180c731a4",
   "metadata": {},
   "outputs": [],
   "source": [
    "PAYLOAD_SIZE = 192 #[bit]"
   ]
  },
  {
   "cell_type": "code",
   "execution_count": 5,
   "id": "eeebf454-842f-4ecf-b1a6-379fe2211d61",
   "metadata": {},
   "outputs": [],
   "source": [
    "def get_data_size(data_exchange):\n",
    "    if \"data\" in data_exchange:\n",
    "        sd_df = pd.read_json(io.StringIO(data_exchange[\"data\"]))\n",
    "        return len(sd_df)\n",
    "    return 0"
   ]
  },
  {
   "cell_type": "code",
   "execution_count": null,
   "id": "7d424628-23ba-4585-af77-cabee1c166ee",
   "metadata": {},
   "outputs": [],
   "source": [
    "data_sizes = {}\n",
    "\n",
    "for sm in SHARING_METHODS:\n",
    "    counts = []\n",
    "    for seed in SEEDS:\n",
    "        with open(f\"{MEETING_PATH}/{sm}/{seed}/shared_data.json\") as f:\n",
    "            shared_data = json.load(f)[\"shared_data\"]\n",
    "        with Pool(16) as pool:\n",
    "            data_size = pool.map(get_data_size, shared_data)\n",
    "        counts = counts + data_size\n",
    "    data_sizes[sm] = np.array(counts)"
   ]
  },
  {
   "cell_type": "code",
   "execution_count": null,
   "id": "1f8a71d7-a3f3-4d2b-858d-791c642cc0d4",
   "metadata": {},
   "outputs": [],
   "source": [
    "for sm in SHARING_METHODS:\n",
    "    print(f\"avg size of {sm:9}: {np.mean(data_sizes[sm]):10.4f}\")\n",
    "for sm in SHARING_METHODS:\n",
    "    print(f\"min size of {sm:9}: {np.min(data_sizes[sm]):10.4f}\")\n",
    "for sm in SHARING_METHODS:\n",
    "    print(f\"max size of {sm:9}: {np.max(data_sizes[sm]):10.4f}\")"
   ]
  },
  {
   "cell_type": "code",
   "execution_count": null,
   "id": "4c776a37-1de0-42c4-a885-30996b8d7cba",
   "metadata": {},
   "outputs": [],
   "source": [
    "long_df_size = pd.DataFrame()\n",
    "sharing_methods, datasize = [], []\n",
    "for sm, sm_name in zip(SHARING_METHODS, SHARING_METHODS_NAMES):\n",
    "    sharing_methods += [sm_name]*len(data_sizes[sm])\n",
    "    datasize += data_sizes[sm].tolist()\n",
    "long_df_size[\"sharing method\"] = sharing_methods\n",
    "long_df_size[\"datasize\"] = datasize\n",
    "long_df_size[\"payload size [kiB]\"] = long_df_size[\"datasize\"]*192/8/1024"
   ]
  },
  {
   "cell_type": "code",
   "execution_count": null,
   "id": "d2e59179-6020-483c-9a0e-7e9877f50281",
   "metadata": {},
   "outputs": [],
   "source": [
    "plt.figure(figsize=[4,3])\n",
    "sns.boxplot(data=long_df_size, x=\"sharing method\", y=\"payload size [kiB]\",\n",
    "            width=.2, whis=[1, 99], legend=True, fliersize=2.0, flierprops={\"alpha\": 0.2},\n",
    "            medianprops={\"linewidth\":3}, color=\"tab:blue\", boxprops=dict(alpha=.6))\n",
    "plt.xlabel(\"\")"
   ]
  },
  {
   "cell_type": "code",
   "execution_count": null,
   "id": "8e6e1f3f-1ea2-4aa2-a5df-35ea51ffdd0c",
   "metadata": {},
   "outputs": [],
   "source": [
    "long_df_size.groupby(\"sharing method\").mean()"
   ]
  },
  {
   "cell_type": "code",
   "execution_count": null,
   "id": "87d6d244-407e-4cdb-9951-02615df1d40e",
   "metadata": {},
   "outputs": [],
   "source": [
    "long_df_size"
   ]
  },
  {
   "cell_type": "markdown",
   "id": "d6ad6202-463f-46a9-af7d-737f4670c2b3",
   "metadata": {},
   "source": [
    "## Data Utility"
   ]
  },
  {
   "cell_type": "code",
   "execution_count": 5,
   "id": "437f9db2-9475-435f-a0e6-443f3670fe44",
   "metadata": {},
   "outputs": [],
   "source": [
    "#reading *test* vehicles:\n",
    "\n",
    "with open(VEH_LIST_PATH) as f:\n",
    "    veh_list  = json.load(f)\n",
    "\n",
    "test_vehicles = veh_list[\"test_vehs\"]"
   ]
  },
  {
   "cell_type": "code",
   "execution_count": 6,
   "id": "745085c1-d34e-4872-b511-931d6533151f",
   "metadata": {},
   "outputs": [],
   "source": [
    "def combine_commuters(veh_id):\n",
    "    if veh_id.startswith(\"carIn\"):\n",
    "        return veh_id.split(\":\")[0]\n",
    "    return veh_id\n",
    "\n",
    "#reading moving simulation data:\n",
    "\n",
    "m_data = pd.DataFrame()\n",
    "for s in SEEDS:\n",
    "    filename = f\"{SIMULATION_RESULTS_ROOT}/vehicle_positions_{s}.csv\"\n",
    "    mf = pd.read_csv(filename)\n",
    "    mf[\"seed\"] = [s]*len(mf)\n",
    "    m_data = pd.concat([m_data, mf])\n",
    "\n",
    "m_data[\"veh_id\"] = m_data[\"veh_id\"].apply(combine_commuters)\n",
    "m_data = m_data[m_data[\"veh_id\"].isin(test_vehicles)]\n",
    "m_data = m_data[~m_data[\"edge\"].str.startswith(\":\")]"
   ]
  },
  {
   "cell_type": "code",
   "execution_count": 7,
   "id": "afbf4a61-78b1-483e-81c1-b7adf2d74266",
   "metadata": {},
   "outputs": [],
   "source": [
    "parking_df = pd.read_xml(PARKING_DEF_PATH, xpath=\"parkingArea\")\n",
    "parking_df = parking_df.set_index(\"id\")\n",
    "p_edges = []\n",
    "for _,r in parking_df.iterrows():\n",
    "    p_edges.append(r[\"lane\"].split(\"_\")[0])\n",
    "parking_df[\"edge\"] = p_edges\n",
    "\n",
    "def add_edges_to_parkings(vehicle_df, parking_df):\n",
    "    parkings = []\n",
    "    for _,r in vehicle_df.iterrows():\n",
    "        parkings.append(parking_df.loc[r.parking_id][\"edge\"])\n",
    "    vehicle_df[\"edge\"] = parkings\n",
    "    return vehicle_df"
   ]
  },
  {
   "cell_type": "code",
   "execution_count": 8,
   "id": "92112338-7639-494b-bb4f-ebd3dc7b556c",
   "metadata": {},
   "outputs": [],
   "source": [
    "def get_useful_size(args):\n",
    "    dx, mv_data = args\n",
    "    utility_percent = 0\n",
    "    if \"data\" in dx:\n",
    "        sd_df = pd.read_json(dx[\"data\"])\n",
    "        veh_id = dx[\"receiver\"]\n",
    "        mtime = dx[\"time\"]\n",
    "        \n",
    "        #filtering the receiver's data which is in the next 5 minutes after the meeting:\n",
    "        veh_moves = mv_data[mv_data[\"veh_id\"] == veh_id]\n",
    "        veh_moves = veh_moves[veh_moves[\"time\"]>mtime]\n",
    "        veh_moves = veh_moves[veh_moves[\"time\"]<=mtime+5*60]\n",
    "\n",
    "        sd_df = add_edges_to_parkings(sd_df, parking_df)\n",
    "        \n",
    "        usefuls = 0\n",
    "        vc = sd_df[\"edge\"].value_counts()\n",
    "        for edge in veh_moves[\"edge\"].unique():\n",
    "            if edge in vc:\n",
    "                usefuls += vc[edge]\n",
    "        if len(sd_df) != 0:\n",
    "            utility_percent = usefuls/len(sd_df)\n",
    "        else:\n",
    "            utility_percent = -1\n",
    "    return utility_percent"
   ]
  },
  {
   "cell_type": "code",
   "execution_count": null,
   "id": "b8d0835b-b960-45fb-9d27-8d86286a34cb",
   "metadata": {},
   "outputs": [
    {
     "data": {
      "application/vnd.jupyter.widget-view+json": {
       "model_id": "b6264ff060734f358455ea9913dbd1bf",
       "version_major": 2,
       "version_minor": 0
      },
      "text/plain": [
       "  0%|          | 0/3 [00:00<?, ?it/s]"
      ]
     },
     "metadata": {},
     "output_type": "display_data"
    }
   ],
   "source": [
    "for sm_i in trange(len(SHARING_METHODS)):\n",
    "    sm = SHARING_METHODS[sm_i]\n",
    "    for seed in SEEDS:\n",
    "        with open(f\"{MEETING_PATH}/{sm}/{seed}/shared_data.json\") as f:\n",
    "            shared_data = json.load(f)[\"shared_data\"]\n",
    "        with Pool(16) as pool:\n",
    "            utils = pool.map(get_useful_size, zip(shared_data, [m_data]*len(shared_data)))\n",
    "        shared_utils = {\"local_evaluation\": utils}\n",
    "        with open(f\"{UTILITY_RESULT_PATH}/utilities_{sm}_{seed}.json\", \"w\") as f:\n",
    "            json.dump(shared_utils, f)"
   ]
  },
  {
   "cell_type": "code",
   "execution_count": null,
   "id": "c0779837-3dde-48e2-a182-e4d8b8bf1f20",
   "metadata": {},
   "outputs": [],
   "source": [
    "long_utility_df = pd.DataFrame()\n",
    "sharing_methods, values = [], []\n",
    "for sm, sm_name in zip(SHARING_METHODS, SHARING_METHODS_NAMES):\n",
    "    for seed in SEEDS:\n",
    "        with open(f\"{UTILITY_RESULT_PATH}/utilities_{sm}_{seed}.json\") as f:\n",
    "            data_utilities = json.load(f)[\"local_evaluation\"]\n",
    "        sharing_methods += [sm_name]*len(data_utilities)\n",
    "        values += (np.clip(data_utilities, 0, 1)*100).tolist()\n",
    "long_utility_df[\"sharing method\"]=sharing_methods\n",
    "long_utility_df[\"utility %\"] = values"
   ]
  },
  {
   "cell_type": "code",
   "execution_count": null,
   "id": "e71a8efc-0f4f-412f-b7bc-58f61f9eee82",
   "metadata": {},
   "outputs": [],
   "source": [
    "plt.figure(figsize=[6,3])\n",
    "sns.boxplot(data=long_utility_df, x=\"sharing method\", y=\"utility %\",\n",
    "            width=.2, whis=[1, 99], legend=True, fliersize=2.0, flierprops={\"alpha\": 0.2},\n",
    "            medianprops={\"linewidth\":3}, color=\"tab:blue\", boxprops=dict(alpha=.6))\n",
    "plt.xlabel(\"\")"
   ]
  },
  {
   "cell_type": "code",
   "execution_count": null,
   "id": "fb3e3f3a-4a6e-4222-85bc-810a854fa22b",
   "metadata": {},
   "outputs": [],
   "source": [
    "long_utility_df.groupby(\"sharing method\").mean()"
   ]
  },
  {
   "cell_type": "code",
   "execution_count": null,
   "id": "1561a59f-34f2-4d96-82a5-09e10b579eb3",
   "metadata": {},
   "outputs": [],
   "source": [
    "long_df_size[\"utility\"] = long_utility_df[\"utility %\"]\n",
    "long_df_size[\"specific_utility\"] = long_df_size[\"utility\"]/long_df_size[\"payload size [kiB]\"]"
   ]
  },
  {
   "cell_type": "code",
   "execution_count": 36,
   "id": "9b569cee-f7ee-4c3d-baf9-2d52e9a5fc8a",
   "metadata": {},
   "outputs": [],
   "source": [
    "long_df_size.to_csv(f\"{UTILITY_RESULT_PATH}/utility_sizes.csv\", index=False)"
   ]
  },
  {
   "cell_type": "code",
   "execution_count": 4,
   "id": "0a3b5e91-317f-4e98-98b3-971801ef4af0",
   "metadata": {},
   "outputs": [],
   "source": [
    "long_df_size = pd.read_csv(f\"{UTILITY_RESULT_PATH}/utility_sizes.csv\")"
   ]
  },
  {
   "cell_type": "code",
   "execution_count": 5,
   "id": "359c9e4d-688b-411d-941a-dfe640fc09c4",
   "metadata": {},
   "outputs": [
    {
     "data": {
      "text/html": [
       "<div>\n",
       "<style scoped>\n",
       "    .dataframe tbody tr th:only-of-type {\n",
       "        vertical-align: middle;\n",
       "    }\n",
       "\n",
       "    .dataframe tbody tr th {\n",
       "        vertical-align: top;\n",
       "    }\n",
       "\n",
       "    .dataframe thead th {\n",
       "        text-align: right;\n",
       "    }\n",
       "</style>\n",
       "<table border=\"1\" class=\"dataframe\">\n",
       "  <thead>\n",
       "    <tr style=\"text-align: right;\">\n",
       "      <th></th>\n",
       "      <th>datasize</th>\n",
       "      <th>payload size [kiB]</th>\n",
       "      <th>utility</th>\n",
       "      <th>specific_utility</th>\n",
       "    </tr>\n",
       "    <tr>\n",
       "      <th>sharing method</th>\n",
       "      <th></th>\n",
       "      <th></th>\n",
       "      <th></th>\n",
       "      <th></th>\n",
       "    </tr>\n",
       "  </thead>\n",
       "  <tbody>\n",
       "    <tr>\n",
       "      <th>all data</th>\n",
       "      <td>1061.507753</td>\n",
       "      <td>24.879088</td>\n",
       "      <td>10.993753</td>\n",
       "      <td>22.145139</td>\n",
       "    </tr>\n",
       "    <tr>\n",
       "      <th>alters</th>\n",
       "      <td>719.807137</td>\n",
       "      <td>16.870480</td>\n",
       "      <td>12.478964</td>\n",
       "      <td>23.503370</td>\n",
       "    </tr>\n",
       "    <tr>\n",
       "      <th>zopt</th>\n",
       "      <td>50.364898</td>\n",
       "      <td>1.180427</td>\n",
       "      <td>17.047145</td>\n",
       "      <td>41.798850</td>\n",
       "    </tr>\n",
       "  </tbody>\n",
       "</table>\n",
       "</div>"
      ],
      "text/plain": [
       "                   datasize  payload size [kiB]    utility  specific_utility\n",
       "sharing method                                                              \n",
       "all data        1061.507753           24.879088  10.993753         22.145139\n",
       "alters           719.807137           16.870480  12.478964         23.503370\n",
       "zopt              50.364898            1.180427  17.047145         41.798850"
      ]
     },
     "execution_count": 5,
     "metadata": {},
     "output_type": "execute_result"
    }
   ],
   "source": [
    "long_df_size.groupby(\"sharing method\").mean()"
   ]
  },
  {
   "cell_type": "code",
   "execution_count": 7,
   "id": "88b105bc-10fc-4597-b8b6-f58be7468c65",
   "metadata": {},
   "outputs": [],
   "source": [
    "plot_method, plot_value, plot_valuetype = [],[],[]\n",
    "for i,r in long_df_size.iterrows():\n",
    "    plot_method.append(r[\"sharing method\"])\n",
    "    plot_value.append(r[\"payload size [kiB]\"])\n",
    "    plot_valuetype.append(\"payload size [kiB]\")\n",
    "    \n",
    "    plot_method.append(r[\"sharing method\"])\n",
    "    plot_value.append(r[\"utility\"])\n",
    "    plot_valuetype.append(\"utility %\")"
   ]
  },
  {
   "cell_type": "code",
   "execution_count": 8,
   "id": "68113eef-5304-405f-b0f2-02f6bcb2adf3",
   "metadata": {},
   "outputs": [],
   "source": [
    "plot_df = pd.DataFrame()\n",
    "plot_df[\"data selection method\"] = plot_method\n",
    "plot_df[\"value\"] = plot_value\n",
    "plot_df[\"value type\"] = plot_valuetype"
   ]
  },
  {
   "cell_type": "code",
   "execution_count": 14,
   "id": "f1e96056-1664-4bd9-94d0-9ad21b822334",
   "metadata": {},
   "outputs": [
    {
     "data": {
      "text/plain": [
       "<matplotlib.legend.Legend at 0x7f0e8358a340>"
      ]
     },
     "execution_count": 14,
     "metadata": {},
     "output_type": "execute_result"
    },
    {
     "data": {
      "image/png": "[encoded data removed]",
      "text/plain": [
       "<Figure size 750x250 with 1 Axes>"
      ]
     },
     "metadata": {},
     "output_type": "display_data"
    }
   ],
   "source": [
    "plt.figure(figsize=(7.5, 2.5))\n",
    "sns.boxplot(data=plot_df, x=\"data selection method\", y=\"value\", hue=\"value type\",\n",
    "            width=0.25, gap=0.2, whis=[1, 99], legend=True, fliersize=2.0, flierprops={\"alpha\": 0.2},\n",
    "                medianprops={\"linewidth\":3})\n",
    "plt.ylabel(\"\")\n",
    "plt.legend(title=\"\", ncols=2, loc=\"lower center\", bbox_to_anchor=(0.5, -.45))"
   ]
  },
  {
   "cell_type": "markdown",
   "id": "39ff27a5-8eeb-46f7-8dc8-9efc90f2731d",
   "metadata": {},
   "source": [
    "## Meeting probabilities"
   ]
  },
  {
   "cell_type": "code",
   "execution_count": 31,
   "id": "4a94e1a3-c2a1-4fcc-9c9a-5945d6d308fb",
   "metadata": {},
   "outputs": [],
   "source": [
    "#reading *test* vehicles:\n",
    "\n",
    "with open(VEH_LIST_PATH) as f:\n",
    "    veh_list  = json.load(f)\n",
    "\n",
    "test_vehicles = veh_list[\"test_vehs\"]"
   ]
  },
  {
   "cell_type": "code",
   "execution_count": 32,
   "id": "e7ab2950-8a11-4d84-bdd8-e509fef0da75",
   "metadata": {},
   "outputs": [],
   "source": [
    "def combine_commuters(veh_id):\n",
    "    if veh_id.startswith(\"carIn\"):\n",
    "        return veh_id.split(\":\")[0]\n",
    "    return veh_id\n",
    "\n",
    "#reading moving simulation data:\n",
    "\n",
    "m_data = pd.DataFrame()\n",
    "for s in SEEDS:\n",
    "    filename = f\"{SIMULATION_RESULTS_ROOT}/vehicle_positions_{s}.csv\"\n",
    "    mf = pd.read_csv(filename)\n",
    "    mf[\"seed\"] = [s]*len(mf)\n",
    "    m_data = pd.concat([m_data, mf])\n",
    "\n",
    "m_data[\"veh_id\"] = m_data[\"veh_id\"].apply(combine_commuters)\n",
    "m_data = m_data[m_data[\"veh_id\"].isin(test_vehicles)]\n",
    "m_data = m_data[~m_data[\"edge\"].str.startswith(\":\")]"
   ]
  },
  {
   "cell_type": "code",
   "execution_count": 33,
   "id": "6747aeee-6758-4c20-ba2d-146560430f5f",
   "metadata": {},
   "outputs": [],
   "source": [
    "parking_df = pd.read_xml(PARKING_DEF_PATH, xpath=\"parkingArea\")\n",
    "parking_df = parking_df.set_index(\"id\")\n",
    "p_edges = []\n",
    "for _,r in parking_df.iterrows():\n",
    "    p_edges.append(r[\"lane\"].split(\"_\")[0])\n",
    "parking_df[\"edge\"] = p_edges\n",
    "\n",
    "def add_edges_to_parkings(vehicle_df, parking_df):\n",
    "    parkings = []\n",
    "    for _,r in vehicle_df.iterrows():\n",
    "        parkings.append(parking_df.loc[r.parking_id][\"edge\"])\n",
    "    vehicle_df[\"edge\"] = parkings\n",
    "    return vehicle_df"
   ]
  },
  {
   "cell_type": "code",
   "execution_count": 37,
   "id": "7dffab59-0df3-453a-a3ee-9e69c7966a2a",
   "metadata": {},
   "outputs": [],
   "source": [
    "veh_ids, movement_starts, movement_ends, seeds, lengths = [], [], [], [], []\n",
    "\n",
    "veh_list = m_data[\"veh_id\"].unique()\n",
    "\n",
    "for veh in veh_list:\n",
    "    veh_mov = m_data[m_data[\"veh_id\"] == veh]\n",
    "\n",
    "    movement_start = 0\n",
    "    movement_end = 0\n",
    "    seed = 0\n",
    "    edge_set = set()\n",
    "    \n",
    "    old_vehid = veh\n",
    "    for i,mov in veh_mov.iterrows():\n",
    "        if (mov[\"time\"] > movement_end+5*60) and (i!=0):\n",
    "            veh_ids.append(old_vehid)\n",
    "            movement_starts.append(movement_start)\n",
    "            movement_ends.append(movement_end)\n",
    "            seeds.append(seed)\n",
    "            lengths.append(len(edge_set))\n",
    "\n",
    "            movement_start = mov[\"time\"]\n",
    "            old_vehid = mov[\"veh_id\"]\n",
    "            edge_set = set()\n",
    "        elif i == 0:\n",
    "            movement_start = mov[\"time\"]\n",
    "\n",
    "        edge_set.add(mov[\"edge\"])    \n",
    "        movement_end = mov[\"time\"]\n",
    "        seed = mov[\"seed\"]"
   ]
  },
  {
   "cell_type": "code",
   "execution_count": 38,
   "id": "61106408-7739-43eb-82bd-90d654594535",
   "metadata": {},
   "outputs": [],
   "source": [
    "movement_lengths = pd.DataFrame()\n",
    "movement_lengths[\"veh_id\"] = veh_ids\n",
    "movement_lengths[\"movement_start\"] = movement_starts\n",
    "movement_lengths[\"movement_end\"] = movement_ends\n",
    "movement_lengths[\"seed\"] = seeds\n",
    "movement_lengths[\"length\"] = lengths"
   ]
  },
  {
   "cell_type": "code",
   "execution_count": 39,
   "id": "3a857e0d-7752-4049-b9e5-36895fc5ffc4",
   "metadata": {},
   "outputs": [],
   "source": [
    "def get_movement_id(movement_lengths, veh_id, dx_time, seed):\n",
    "    mov_filt = movement_lengths[movement_lengths[\"seed\"] == seed]\n",
    "    mov_filt = mov_filt[mov_filt[\"veh_id\"] == veh_id]\n",
    "    for i,r in mov_filt.iterrows():\n",
    "        if (r[\"movement_start\"] <= dx_time) and (dx_time <= r[\"movement_end\"]):\n",
    "            return i\n",
    "    return None"
   ]
  },
  {
   "cell_type": "code",
   "execution_count": 40,
   "id": "4b4c5f14-c50d-4cec-9eaf-7a67e9bd26d2",
   "metadata": {},
   "outputs": [],
   "source": [
    "sm = SHARING_METHODS[0]\n",
    "num_exchanges = [0]*len(movement_lengths)\n",
    "\n",
    "for seed in SEEDS:\n",
    "    with open(f\"{MEETING_PATH}/{sm}/{seed}/shared_data.json\") as f:\n",
    "        shared_data = json.load(f)[\"shared_data\"]\n",
    "        \n",
    "        for exi, data_exchange in enumerate(shared_data):\n",
    "            dx_time = data_exchange[\"time\"]\n",
    "            vehicle = data_exchange[\"sender\"]\n",
    "            index_dx = get_movement_id(movement_lengths, vehicle, dx_time, seed)\n",
    "            if not(index_dx is None):\n",
    "                num_exchanges[index_dx] += 1\n",
    "            else:\n",
    "                pass\n",
    "                #print(f\"{exi}: vehicle: {vehicle}, time: {dx_time}, seed: {seed}\")"
   ]
  },
  {
   "cell_type": "code",
   "execution_count": 41,
   "id": "d11ba2a1-bb80-4ede-8fff-ba514a29aa51",
   "metadata": {},
   "outputs": [],
   "source": [
    "movement_lengths[\"num_meetings\"] = num_exchanges"
   ]
  },
  {
   "cell_type": "code",
   "execution_count": 42,
   "id": "893c8dc2-6b46-4cb8-bf2a-813b9b4950c0",
   "metadata": {},
   "outputs": [],
   "source": [
    "movement_lengths.to_csv(f\"{UTILITY_RESULT_PATH}/meeting_probs.csv\", index=False)"
   ]
  },
  {
   "cell_type": "code",
   "execution_count": 46,
   "id": "a7be6320-f82b-4374-8498-74db3a92a273",
   "metadata": {},
   "outputs": [
    {
     "data": {
      "text/plain": [
       "0.5207298947369341"
      ]
     },
     "execution_count": 46,
     "metadata": {},
     "output_type": "execute_result"
    }
   ],
   "source": [
    "movement_lengths[\"meeting_rate\"] = movement_lengths[\"num_meetings\"] / movement_lengths[\"length\"]\n",
    "np.mean(movement_lengths[\"meeting_rate\"])"
   ]
  }
 ],
 "metadata": {
  "kernelspec": {
   "display_name": "Python 3 (ipykernel)",
   "language": "python",
   "name": "python3"
  },
  "language_info": {
   "codemirror_mode": {
    "name": "ipython",
    "version": 3
   },
   "file_extension": ".py",
   "mimetype": "text/x-python",
   "name": "python",
   "nbconvert_exporter": "python",
   "pygments_lexer": "ipython3",
   "version": "3.8.18"
  }
 },
 "nbformat": 4,
 "nbformat_minor": 5
}
