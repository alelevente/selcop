{
 "cells": [
  {
   "cell_type": "markdown",
   "id": "53d18db1-9fb4-4056-b068-41f5820c200c",
   "metadata": {},
   "source": [
    "# **Evaluating the Performance of the Federated Learning Models**"
   ]
  },
  {
   "cell_type": "code",
   "execution_count": 1,
   "id": "93767fce-06a2-49a9-a810-ea5cd19dcdbe",
   "metadata": {},
   "outputs": [],
   "source": [
    "import json\n",
    "\n",
    "import numpy as np\n",
    "import pandas as pd\n",
    "\n",
    "import matplotlib.pyplot as plt\n",
    "import seaborn as sns"
   ]
  },
  {
   "cell_type": "code",
   "execution_count": 2,
   "id": "02683ffe-66b7-4d4a-84b1-73e6da5d7ecb",
   "metadata": {},
   "outputs": [],
   "source": [
    "NUM_MEAS = 5\n",
    "TRAINING_DAYS = 4\n",
    "SHARING_METHODS = [\"ref\", \"all_data\", \"alters\", \"zopt\"]\n",
    "SHARING_METHODS_NAMES = [\"reference\", \"all data\", \"alters\", \"zopt\"]"
   ]
  },
  {
   "cell_type": "code",
   "execution_count": 3,
   "id": "7b8beac3-30aa-4a0b-9356-116631975c5e",
   "metadata": {},
   "outputs": [],
   "source": [
    "FL_ROOT = \"../../02_data/04_fl_performance/broad/\""
   ]
  },
  {
   "cell_type": "code",
   "execution_count": 4,
   "id": "43489a66-aaf7-4980-8e53-6796d41bd24a",
   "metadata": {},
   "outputs": [],
   "source": [
    "sharing_methods, days, performances = [], [], []\n",
    "\n",
    "for sm in SHARING_METHODS:\n",
    "    for mc in range(NUM_MEAS):\n",
    "        with open(f\"{FL_ROOT}/{mc}/{sm}/fl_eval_performance.json\") as f:\n",
    "            eval_results = json.load(f)[\"fl_performance\"]\n",
    "            for day in range(len(eval_results)):\n",
    "                sharing_methods.append(SHARING_METHODS_NAMES[SHARING_METHODS.index(sm)])\n",
    "                days.append(day)\n",
    "                performances.append(eval_results[day][\"evaluation_result\"])\n",
    "                \n",
    "fl_perf = pd.DataFrame()\n",
    "fl_perf[\"sharing_method\"] = sharing_methods\n",
    "fl_perf[\"day\"] = days\n",
    "fl_perf[\"performances\"] = performances"
   ]
  },
  {
   "cell_type": "code",
   "execution_count": 5,
   "id": "425b9bd3-1040-4e34-b84f-7afdfa41a403",
   "metadata": {},
   "outputs": [
    {
     "data": {
      "text/plain": [
       "<matplotlib.legend.Legend at 0x7f4ec8410fd0>"
      ]
     },
     "execution_count": 5,
     "metadata": {},
     "output_type": "execute_result"
    },
    {
     "data": {
      "image/png": "[encoded data removed]",
      "text/plain": [
       "<Figure size 750x250 with 1 Axes>"
      ]
     },
     "metadata": {},
     "output_type": "display_data"
    }
   ],
   "source": [
    "#calculation:\n",
    "#reference:\n",
    "ref_day = {}\n",
    "ref_df = fl_perf[fl_perf[\"sharing_method\"]==\"reference\"]\n",
    "for day in range(4):\n",
    "    avg = ref_df[ref_df[\"day\"] == day][\"performances\"].mean()\n",
    "    ref_day[day] = avg\n",
    "#comparison:\n",
    "diffs = []\n",
    "for i,r in fl_perf.iterrows():\n",
    "    diffs.append((ref_day[r[\"day\"]] - r[\"performances\"])/ref_day[r[\"day\"]]*100)\n",
    "fl_perf[\"difference_to_ref\"] = diffs\n",
    "\n",
    "#plotting:\n",
    "plt.figure(figsize=(7.5, 2.5))\n",
    "sns.boxplot(fl_perf[fl_perf[\"sharing_method\"] != \"reference\"], x=\"day\", y=\"difference_to_ref\", hue=\"sharing_method\",\n",
    "            width=0.3, gap=0.2, whis=[1,99], fliersize=3.0,\n",
    "            flierprops={\"alpha\": 0.5},\n",
    "            medianprops={\"linewidth\":2})\n",
    "plt.hlines(y=0, xmin=-0.5, xmax=3.5, zorder=0, linestyle=\"--\", color=\"k\", alpha=0.33, label=\"reference\")\n",
    "plt.xlabel(\"training day\")\n",
    "plt.ylabel(\"performance gain [%]\")\n",
    "plt.legend(title=\"data selection method\", ncols=2, loc=\"best\",)# bbox_to_anchor=(.41, -.35))"
   ]
  },
  {
   "cell_type": "code",
   "execution_count": 9,
   "id": "e6dece7a-0133-4aa8-a3d7-08366c426bf8",
   "metadata": {},
   "outputs": [
    {
     "data": {
      "text/html": [
       "<div>\n",
       "<style scoped>\n",
       "    .dataframe tbody tr th:only-of-type {\n",
       "        vertical-align: middle;\n",
       "    }\n",
       "\n",
       "    .dataframe tbody tr th {\n",
       "        vertical-align: top;\n",
       "    }\n",
       "\n",
       "    .dataframe thead th {\n",
       "        text-align: right;\n",
       "    }\n",
       "</style>\n",
       "<table border=\"1\" class=\"dataframe\">\n",
       "  <thead>\n",
       "    <tr style=\"text-align: right;\">\n",
       "      <th></th>\n",
       "      <th></th>\n",
       "      <th>performances</th>\n",
       "      <th>difference_to_ref</th>\n",
       "    </tr>\n",
       "    <tr>\n",
       "      <th>sharing_method</th>\n",
       "      <th>day</th>\n",
       "      <th></th>\n",
       "      <th></th>\n",
       "    </tr>\n",
       "  </thead>\n",
       "  <tbody>\n",
       "    <tr>\n",
       "      <th rowspan=\"4\" valign=\"top\">all data</th>\n",
       "      <th>0</th>\n",
       "      <td>0.061441</td>\n",
       "      <td>2.921679e+01</td>\n",
       "    </tr>\n",
       "    <tr>\n",
       "      <th>1</th>\n",
       "      <td>0.054417</td>\n",
       "      <td>1.646817e+01</td>\n",
       "    </tr>\n",
       "    <tr>\n",
       "      <th>2</th>\n",
       "      <td>0.051211</td>\n",
       "      <td>7.711926e+00</td>\n",
       "    </tr>\n",
       "    <tr>\n",
       "      <th>3</th>\n",
       "      <td>0.048212</td>\n",
       "      <td>6.491171e+00</td>\n",
       "    </tr>\n",
       "    <tr>\n",
       "      <th rowspan=\"4\" valign=\"top\">alters</th>\n",
       "      <th>0</th>\n",
       "      <td>0.069595</td>\n",
       "      <td>1.982267e+01</td>\n",
       "    </tr>\n",
       "    <tr>\n",
       "      <th>1</th>\n",
       "      <td>0.055139</td>\n",
       "      <td>1.536067e+01</td>\n",
       "    </tr>\n",
       "    <tr>\n",
       "      <th>2</th>\n",
       "      <td>0.052400</td>\n",
       "      <td>5.570394e+00</td>\n",
       "    </tr>\n",
       "    <tr>\n",
       "      <th>3</th>\n",
       "      <td>0.050668</td>\n",
       "      <td>1.727606e+00</td>\n",
       "    </tr>\n",
       "    <tr>\n",
       "      <th rowspan=\"4\" valign=\"top\">reference</th>\n",
       "      <th>0</th>\n",
       "      <td>0.086802</td>\n",
       "      <td>6.883383e-15</td>\n",
       "    </tr>\n",
       "    <tr>\n",
       "      <th>1</th>\n",
       "      <td>0.065146</td>\n",
       "      <td>-8.881784e-17</td>\n",
       "    </tr>\n",
       "    <tr>\n",
       "      <th>2</th>\n",
       "      <td>0.055491</td>\n",
       "      <td>4.440892e-17</td>\n",
       "    </tr>\n",
       "    <tr>\n",
       "      <th>3</th>\n",
       "      <td>0.051559</td>\n",
       "      <td>1.776357e-16</td>\n",
       "    </tr>\n",
       "    <tr>\n",
       "      <th rowspan=\"4\" valign=\"top\">zopt</th>\n",
       "      <th>0</th>\n",
       "      <td>0.073119</td>\n",
       "      <td>1.576283e+01</td>\n",
       "    </tr>\n",
       "    <tr>\n",
       "      <th>1</th>\n",
       "      <td>0.060372</td>\n",
       "      <td>7.327222e+00</td>\n",
       "    </tr>\n",
       "    <tr>\n",
       "      <th>2</th>\n",
       "      <td>0.051937</td>\n",
       "      <td>6.404503e+00</td>\n",
       "    </tr>\n",
       "    <tr>\n",
       "      <th>3</th>\n",
       "      <td>0.049859</td>\n",
       "      <td>3.298188e+00</td>\n",
       "    </tr>\n",
       "  </tbody>\n",
       "</table>\n",
       "</div>"
      ],
      "text/plain": [
       "                    performances  difference_to_ref\n",
       "sharing_method day                                 \n",
       "all data       0        0.061441       2.921679e+01\n",
       "               1        0.054417       1.646817e+01\n",
       "               2        0.051211       7.711926e+00\n",
       "               3        0.048212       6.491171e+00\n",
       "alters         0        0.069595       1.982267e+01\n",
       "               1        0.055139       1.536067e+01\n",
       "               2        0.052400       5.570394e+00\n",
       "               3        0.050668       1.727606e+00\n",
       "reference      0        0.086802       6.883383e-15\n",
       "               1        0.065146      -8.881784e-17\n",
       "               2        0.055491       4.440892e-17\n",
       "               3        0.051559       1.776357e-16\n",
       "zopt           0        0.073119       1.576283e+01\n",
       "               1        0.060372       7.327222e+00\n",
       "               2        0.051937       6.404503e+00\n",
       "               3        0.049859       3.298188e+00"
      ]
     },
     "execution_count": 9,
     "metadata": {},
     "output_type": "execute_result"
    }
   ],
   "source": [
    "fl_perf.groupby([\"sharing_method\", \"day\"]).mean()"
   ]
  }
 ],
 "metadata": {
  "kernelspec": {
   "display_name": "Python 3 (ipykernel)",
   "language": "python",
   "name": "python3"
  },
  "language_info": {
   "codemirror_mode": {
    "name": "ipython",
    "version": 3
   },
   "file_extension": ".py",
   "mimetype": "text/x-python",
   "name": "python",
   "nbconvert_exporter": "python",
   "pygments_lexer": "ipython3",
   "version": "3.8.18"
  }
 },
 "nbformat": 4,
 "nbformat_minor": 5
}
