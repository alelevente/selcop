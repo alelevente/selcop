{
 "cells": [
  {
   "cell_type": "markdown",
   "metadata": {},
   "source": [
    "# **Collecting Vehicles' Reference Dataset**\n",
    "\n",
    "Reference datasets for vanilla federated learning."
   ]
  },
  {
   "cell_type": "code",
   "execution_count": 4,
   "metadata": {},
   "outputs": [],
   "source": [
    "import numpy as np\n",
    "import pandas as pd\n",
    "\n",
    "import json\n",
    "\n",
    "from multiprocessing.pool import Pool, ThreadPool\n",
    "from multiprocessing import Lock\n",
    "\n",
    "from tqdm.notebook import trange\n",
    "\n",
    "import copy"
   ]
  },
  {
   "cell_type": "code",
   "execution_count": 5,
   "metadata": {},
   "outputs": [],
   "source": [
    "SEEDS = [42, 1234, 1867, 613, 1001]\n",
    "TIME_LIMIT = 300"
   ]
  },
  {
   "cell_type": "code",
   "execution_count": null,
   "metadata": {},
   "outputs": [],
   "source": [
    "RESULTS_ROOT = \"../../02_data/01_simulation_results/\"\n",
    "VEH_LIST_PATH = \"../../02_data/veh_list.json\"\n",
    "MEETING_PATH = \"../../02_data/03_meeting_data/\"\n",
    "COMBINED_PATH = \"../../02_data/03_meeting_data/combined_dataset.csv\"\n",
    "EDGE_MAP_PATH = \"../../02_data/edge_maps.json\""
   ]
  },
  {
   "cell_type": "code",
   "execution_count": 12,
   "metadata": {},
   "outputs": [],
   "source": [
    "import os\n",
    "\n",
    "\n",
    "if not(os.path.exists(f\"{MEETING_PATH}/ref\")):\n",
    "    os.makedirs(f\"{MEETING_PATH}/ref\")\n",
    "for s in SEEDS:\n",
    "    if not(os.path.exists(f\"{MEETING_PATH}/ref/{s}\")):\n",
    "        os.makedirs(f\"{MEETING_PATH}/ref/{s}\")"
   ]
  },
  {
   "cell_type": "code",
   "execution_count": 7,
   "metadata": {},
   "outputs": [],
   "source": [
    "#reading *test* vehicles:\n",
    "\n",
    "with open(VEH_LIST_PATH) as f:\n",
    "    veh_list  = json.load(f)\n",
    "\n",
    "test_vehicles = veh_list[\"test_vehs\"]"
   ]
  },
  {
   "cell_type": "code",
   "execution_count": 8,
   "metadata": {},
   "outputs": [],
   "source": [
    "def combine_commuters(veh_id):\n",
    "    if veh_id.startswith(\"carIn\"):\n",
    "        return veh_id.split(\":\")[0]\n",
    "    return veh_id\n"
   ]
  },
  {
   "cell_type": "markdown",
   "metadata": {},
   "source": [
    "## Collecting meeting vehicles"
   ]
  },
  {
   "cell_type": "code",
   "execution_count": 2,
   "metadata": {},
   "outputs": [],
   "source": [
    "p_data = pd.read_csv(COMBINED_PATH)"
   ]
  },
  {
   "cell_type": "code",
   "execution_count": 3,
   "metadata": {},
   "outputs": [],
   "source": [
    "with open(EDGE_MAP_PATH) as f:\n",
    "    edge_maps = json.load(f)\n",
    "\n",
    "edge_to_idx = edge_maps[\"edge_to_idx\"]"
   ]
  },
  {
   "cell_type": "code",
   "execution_count": 9,
   "metadata": {},
   "outputs": [],
   "source": [
    "#reading moving simulation data:\n",
    "\n",
    "m_data = pd.DataFrame()\n",
    "for s in SEEDS:\n",
    "    filename = f\"{RESULTS_ROOT}/vehicle_positions_{s}.csv\"\n",
    "    mf = pd.read_csv(filename)\n",
    "    mf[\"seed\"] = [s]*len(mf)\n",
    "    m_data = pd.concat([m_data, mf])\n",
    "\n",
    "m_data[\"veh_id\"] = m_data[\"veh_id\"].apply(combine_commuters)\n",
    "m_data = m_data[m_data[\"veh_id\"].isin(test_vehicles)]"
   ]
  },
  {
   "cell_type": "code",
   "execution_count": 10,
   "metadata": {},
   "outputs": [],
   "source": [
    "whole_df = pd.read_csv(COMBINED_PATH)\n",
    "whole_df[\"time\"] = whole_df[\"time\"].astype(int)\n",
    "whole_df[\"seed\"] = whole_df[\"seed\"].astype(int)"
   ]
  },
  {
   "cell_type": "code",
   "execution_count": 11,
   "metadata": {},
   "outputs": [],
   "source": [
    "whole_df = whole_df[whole_df[\"veh_id\"].isin(test_vehicles)]\n",
    "receive_time = [-1]*len(whole_df)\n",
    "whole_df[\"receive_time\"] = receive_time"
   ]
  },
  {
   "cell_type": "code",
   "execution_count": 13,
   "metadata": {},
   "outputs": [],
   "source": [
    "def per_seed_script(seed):\n",
    "    p_data = whole_df[whole_df[\"seed\"] == seed]\n",
    "    meeting_times = {}\n",
    "    vehicles_kb = {}\n",
    "    store_sharing = []\n",
    "\n",
    "    for veh in test_vehicles:\n",
    "        vehicles_kb[veh] = copy.deepcopy(p_data[p_data[\"veh_id\"] == veh])\n",
    "\n",
    "    for veh in vehicles_kb:\n",
    "        vehicles_kb[veh].to_csv(f\"{MEETING_PATH}/ref/{seed}/{veh}.csv\", index=False)\n",
    "    store_dict = {\n",
    "        \"shared_data\": store_sharing\n",
    "    }\n",
    "    with open(f\"{MEETING_PATH}/ref/{seed}/shared_data.json\", \"w\") as f:\n",
    "        json.dump(store_dict, f)\n",
    "\n",
    "with Pool(5) as ps:\n",
    "    ps.map(per_seed_script, SEEDS)"
   ]
  }
 ],
 "metadata": {
  "kernelspec": {
   "display_name": "Python 3 (ipykernel)",
   "language": "python",
   "name": "python3"
  },
  "language_info": {
   "codemirror_mode": {
    "name": "ipython",
    "version": 3
   },
   "file_extension": ".py",
   "mimetype": "text/x-python",
   "name": "python",
   "nbconvert_exporter": "python",
   "pygments_lexer": "ipython3",
   "version": "3.8.18"
  }
 },
 "nbformat": 4,
 "nbformat_minor": 4
}
