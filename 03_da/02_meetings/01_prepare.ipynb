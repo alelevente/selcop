{
 "cells": [
  {
   "cell_type": "markdown",
   "id": "03023ba7-947d-4d26-b819-9231e964d663",
   "metadata": {},
   "source": [
    "# **Preparations for Meeting Simulation**"
   ]
  },
  {
   "cell_type": "code",
   "execution_count": null,
   "id": "c8f8b3df-ed6a-44f1-aa89-bbf14362648a",
   "metadata": {},
   "outputs": [],
   "source": [
    "import numpy as np\n",
    "import pandas as pd\n",
    "\n",
    "import json\n",
    "\n",
    "from multiprocessing.pool import Pool, ThreadPool\n",
    "from multiprocessing import Lock\n",
    "\n",
    "from tqdm.notebook import trange\n",
    "\n",
    "import copy"
   ]
  },
  {
   "cell_type": "code",
   "execution_count": null,
   "id": "28d6a16f-3e25-487d-9391-b1228fd5c3b5",
   "metadata": {},
   "outputs": [],
   "source": [
    "SEEDS = [42, 1234, 1867, 613, 1001]\n",
    "TIME_LIMIT = 300"
   ]
  },
  {
   "cell_type": "code",
   "execution_count": null,
   "id": "87538e11-f9f5-4cbe-9cd4-8faae9c28498",
   "metadata": {},
   "outputs": [],
   "source": [
    "RESULTS_ROOT = \"../../02_data/01_simulation_results/\"\n",
    "VEH_LIST_PATH = \"../../02_data/veh_list.json\"\n",
    "MEETING_PATH = \"../../02_data/03_meeting_data/\""
   ]
  },
  {
   "cell_type": "code",
   "execution_count": null,
   "id": "7a9f7cbd-f60f-4e09-8dfa-3fffc10dfcee",
   "metadata": {},
   "outputs": [],
   "source": [
    "#reading *test* vehicles:\n",
    "\n",
    "with open(VEH_LIST_PATH) as f:\n",
    "    veh_list  = json.load(f)\n",
    "\n",
    "test_vehicles = veh_list[\"test_vehs\"]"
   ]
  },
  {
   "cell_type": "code",
   "execution_count": null,
   "id": "d28fef14-db48-4fbc-ad6b-1edec1739112",
   "metadata": {},
   "outputs": [],
   "source": [
    "def combine_commuters(veh_id):\n",
    "    if veh_id.startswith(\"carIn\"):\n",
    "        return veh_id.split(\":\")[0]\n",
    "    return veh_id"
   ]
  },
  {
   "cell_type": "markdown",
   "id": "3eddb8b5-6701-4773-b841-4b820922c66a",
   "metadata": {},
   "source": [
    "## Creating the combination dataset"
   ]
  },
  {
   "cell_type": "code",
   "execution_count": null,
   "id": "60606357-4ed8-42b8-8290-9127e1805b79",
   "metadata": {},
   "outputs": [],
   "source": [
    "#reading parking simulation data and combine commuter vehicle ids:\n",
    "\n",
    "#data reading:\n",
    "p_data = pd.DataFrame()\n",
    "\n",
    "for s in SEEDS:\n",
    "    filename = f'{RESULTS_ROOT}/poccup_by_vehs_{s}.csv'\n",
    "    pf = pd.read_csv(filename)\n",
    "    pf[\"seed\"] = [s]*len(pf)\n",
    "    p_data = pd.concat([p_data, pf])\n",
    "\n",
    "#handling the commuters:\n",
    "p_data[\"veh_id\"] = p_data[\"veh_id\"].apply(combine_commuters)"
   ]
  },
  {
   "cell_type": "code",
   "execution_count": null,
   "id": "9dbe963f-5197-4657-a848-d9fa064c27b8",
   "metadata": {},
   "outputs": [],
   "source": [
    "#creating key for the measurements:\n",
    "\n",
    "def calculate_hash(datarow):\n",
    "    key = r.parking_id + str(r.time) + str(r.occupancy) + str(r.seed)\n",
    "    return hash(key)\n",
    "\n",
    "\n",
    "hashes = []\n",
    "for i,r in p_data.iterrows():\n",
    "    hashes.append(calculate_hash(r))\n",
    "p_data[\"hash\"] = hashes"
   ]
  },
  {
   "cell_type": "code",
   "execution_count": null,
   "id": "828ecb8c-e071-4b9a-b7a0-85a1bbdaaada",
   "metadata": {},
   "outputs": [],
   "source": [
    "p_data.to_csv(f\"{MEETING_PATH}/combined_dataset.csv\", index=False)"
   ]
  }
 ],
 "metadata": {
  "kernelspec": {
   "display_name": "Python 3 (ipykernel)",
   "language": "python",
   "name": "python3"
  },
  "language_info": {
   "codemirror_mode": {
    "name": "ipython",
    "version": 3
   },
   "file_extension": ".py",
   "mimetype": "text/x-python",
   "name": "python",
   "nbconvert_exporter": "python",
   "pygments_lexer": "ipython3",
   "version": "3.8.18"
  }
 },
 "nbformat": 4,
 "nbformat_minor": 5
}
